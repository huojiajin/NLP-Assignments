{
  "nbformat": 4,
  "nbformat_minor": 0,
  "metadata": {
    "colab": {
      "provenance": [],
      "toc_visible": true,
      "authorship_tag": "ABX9TyNs7/4M0VYAjmhs6E1UNGOt",
      "include_colab_link": true
    },
    "kernelspec": {
      "name": "python3",
      "display_name": "Python 3"
    },
    "language_info": {
      "name": "python"
    }
  },
  "cells": [
    {
      "cell_type": "markdown",
      "metadata": {
        "id": "view-in-github",
        "colab_type": "text"
      },
      "source": [
        "<a href=\"https://colab.research.google.com/github/huojiajin/NLP-Assignments/blob/main/Week1_Assignment.ipynb\" target=\"_parent\"><img src=\"https://colab.research.google.com/assets/colab-badge.svg\" alt=\"Open In Colab\"/></a>"
      ]
    },
    {
      "cell_type": "code",
      "execution_count": null,
      "metadata": {
        "id": "0c60BbDMpQ3-"
      },
      "outputs": [],
      "source": [
        "from google.colab import files\n",
        "files.upload()"
      ]
    },
    {
      "cell_type": "code",
      "source": [
        "!ls"
      ],
      "metadata": {
        "colab": {
          "base_uri": "https://localhost:8080/"
        },
        "id": "YUgZgq65p0T0",
        "outputId": "a6b343ed-cae5-45d0-c35d-52847137f6d3"
      },
      "execution_count": null,
      "outputs": [
        {
          "output_type": "stream",
          "name": "stdout",
          "text": [
            "sample_data  worldfloras.csv\n"
          ]
        }
      ]
    },
    {
      "cell_type": "code",
      "source": [
        "import pandas as pd\n",
        "df = pd.read_csv('worldfloras.csv')\n",
        "print(df)"
      ],
      "metadata": {
        "id": "J019B-Fmp3xl"
      },
      "execution_count": null,
      "outputs": []
    },
    {
      "cell_type": "code",
      "source": [
        "with open('worldfloras.csv','r') as f:\n",
        "  contents = f.read()\n",
        "\n",
        "print(contents)"
      ],
      "metadata": {
        "id": "x3vjQdLVw17D"
      },
      "execution_count": null,
      "outputs": []
    },
    {
      "cell_type": "code",
      "source": [
        "import re;"
      ],
      "metadata": {
        "id": "_hgA_k-fyzb1"
      },
      "execution_count": null,
      "outputs": []
    },
    {
      "cell_type": "markdown",
      "source": [
        "I have doubts about whether to use Python 're' library for problem #1- #3.\n",
        "So I code the methods both of them."
      ],
      "metadata": {
        "id": "Z_ZumA1QwCzW"
      }
    },
    {
      "cell_type": "code",
      "source": [
        "# Question#1: Display the country names that start with characters ‘D’ or ‘E’."
      ],
      "metadata": {
        "id": "HTkzOvN0qedJ"
      },
      "execution_count": null,
      "outputs": []
    },
    {
      "cell_type": "code",
      "source": [
        "#without 're' library\n",
        "pattern = r'^[DE].+'\n",
        "booleanMask = df['Country'].str.contains(pattern, regex = True, na = False)\n",
        "print(df[booleanMask]['Country'])\n"
      ],
      "metadata": {
        "colab": {
          "base_uri": "https://localhost:8080/"
        },
        "id": "XtzOFCSGyHsL",
        "outputId": "e89b2125-ee5b-4c03-d8cf-1339b9556076"
      },
      "execution_count": null,
      "outputs": [
        {
          "output_type": "stream",
          "name": "stdout",
          "text": [
            "40               Denmark\n",
            "41    Dominican Republic\n",
            "42               Ecuador\n",
            "43                 Egypt\n",
            "44           El Salvador\n",
            "45              Ethiopia\n",
            "Name: Country, dtype: object\n"
          ]
        }
      ]
    },
    {
      "cell_type": "code",
      "source": [
        "#with 're' library\n",
        "pattern = re.compile(r'^[DE][^0-9,]+', re.M)\n",
        "matches = pattern.finditer(contents)\n",
        "for match in matches:\n",
        "  print(match.group())\n"
      ],
      "metadata": {
        "colab": {
          "base_uri": "https://localhost:8080/"
        },
        "id": "NHo-nh1XyFRo",
        "outputId": "8e7f0561-5206-49fa-8590-13ea2c5bca35"
      },
      "execution_count": null,
      "outputs": [
        {
          "output_type": "stream",
          "name": "stdout",
          "text": [
            "Denmark\n",
            "Dominican Republic\n",
            "Ecuador\n",
            "Egypt\n",
            "El Salvador\n",
            "Ethiopia\n"
          ]
        }
      ]
    },
    {
      "cell_type": "code",
      "source": [
        "# Question#2: Display the country names that start with the word ‘New’\n"
      ],
      "metadata": {
        "id": "B38wNvmKqnCi"
      },
      "execution_count": null,
      "outputs": []
    },
    {
      "cell_type": "code",
      "source": [
        "#without 're' library\n",
        "pattern = r'^New.+'\n",
        "booleanMask = df['Country'].str.contains(pattern, regex = True, na = False)\n",
        "print(df[booleanMask]['Country'])"
      ],
      "metadata": {
        "colab": {
          "base_uri": "https://localhost:8080/"
        },
        "id": "rUGRYHkC5Xag",
        "outputId": "9d46b819-477d-41e0-9df0-e62f595ec55c"
      },
      "execution_count": null,
      "outputs": [
        {
          "output_type": "stream",
          "name": "stdout",
          "text": [
            "102    New Caledonia\n",
            "103      New Zealand\n",
            "Name: Country, dtype: object\n"
          ]
        }
      ]
    },
    {
      "cell_type": "code",
      "source": [
        "#with 're' library\n",
        "pattern = re.compile(r'^New[^0-9,]+', re.M)\n",
        "matches = pattern.finditer(contents)\n",
        "for match in matches:\n",
        "  print(match.group())\n"
      ],
      "metadata": {
        "colab": {
          "base_uri": "https://localhost:8080/"
        },
        "id": "89W1IgBs5XVQ",
        "outputId": "643e5905-2a99-4d05-9894-298e04adafe1"
      },
      "execution_count": null,
      "outputs": [
        {
          "output_type": "stream",
          "name": "stdout",
          "text": [
            "New Caledonia\n",
            "New Zealand\n"
          ]
        }
      ]
    },
    {
      "cell_type": "code",
      "source": [
        "# Question3: Display the country names that have a character ‘y’ as the 2nd character (indexing starts from 1)\n",
        "#in their name. "
      ],
      "metadata": {
        "id": "SXI1GiYDquiO"
      },
      "execution_count": null,
      "outputs": []
    },
    {
      "cell_type": "code",
      "source": [
        "#without 're' library\n",
        "pattern = r'^.{1}y.*'\n",
        "booleanMask = df['Country'].str.contains(pattern, regex = True, na = False)\n",
        "print(df[booleanMask]['Country'])"
      ],
      "metadata": {
        "colab": {
          "base_uri": "https://localhost:8080/"
        },
        "id": "R9XAXK7y5mrI",
        "outputId": "31a610bf-ca88-4e1b-ef38-794681c3f4c7"
      },
      "execution_count": null,
      "outputs": [
        {
          "output_type": "stream",
          "name": "stdout",
          "text": [
            "38     Cyprus\n",
            "140     Syria\n",
            "Name: Country, dtype: object\n"
          ]
        }
      ]
    },
    {
      "cell_type": "code",
      "source": [
        "#with 're' library\n",
        "pattern = re.compile(r'^.{1}y[^0-9,]*', re.M)\n",
        "matches = pattern.finditer(contents)\n",
        "for match in matches:\n",
        "  print(match.group())"
      ],
      "metadata": {
        "colab": {
          "base_uri": "https://localhost:8080/"
        },
        "id": "Ph8tqPNH5pjx",
        "outputId": "f4ef1184-2a75-4b21-abe3-e15e188721f6"
      },
      "execution_count": null,
      "outputs": [
        {
          "output_type": "stream",
          "name": "stdout",
          "text": [
            "Cyprus\n",
            "Syria\n"
          ]
        }
      ]
    },
    {
      "cell_type": "code",
      "source": [
        "# Question4: Display the country names that have a character ‘y’ as the 6th character (indexing starts from 1)\n",
        "#in their name. Use Python ‘re’ library for regular expressions."
      ],
      "metadata": {
        "id": "9cAQrMFEqys2"
      },
      "execution_count": null,
      "outputs": []
    },
    {
      "cell_type": "code",
      "source": [
        "pattern = re.compile(r'^.{5}y[^0-9,]*', re.M)\n",
        "matches = pattern.finditer(contents)\n",
        "for match in matches:\n",
        "  print(match.group())"
      ],
      "metadata": {
        "colab": {
          "base_uri": "https://localhost:8080/"
        },
        "id": "yCZYXnic5236",
        "outputId": "9abb1edc-575b-40c5-910b-8de672730e71"
      },
      "execution_count": null,
      "outputs": [
        {
          "output_type": "stream",
          "name": "stdout",
          "text": [
            "Norway\n",
            "Sicily\n",
            "Turkey\n"
          ]
        }
      ]
    },
    {
      "cell_type": "code",
      "source": [
        "# Question5: Display the country names that have a character ‘c’ as the 4th character (indexing starts from 1)\n",
        "#in their name. Use Python ‘re’ library for regular expressions."
      ],
      "metadata": {
        "id": "k7azzxbkq3fG"
      },
      "execution_count": null,
      "outputs": []
    },
    {
      "cell_type": "code",
      "source": [
        "pattern = re.compile(r'^.{3}c[^0-9,]*', re.M)\n",
        "matches = pattern.finditer(contents)\n",
        "for match in matches:\n",
        "  print(match.group())"
      ],
      "metadata": {
        "colab": {
          "base_uri": "https://localhost:8080/"
        },
        "id": "MTwn3sh359JK",
        "outputId": "10f15cf4-4778-46a9-deb6-82aa3dabded9"
      },
      "execution_count": null,
      "outputs": [
        {
          "output_type": "stream",
          "name": "stdout",
          "text": [
            "Czechoslovakia\n",
            "Liechtenstein\n",
            "Seychelles\n"
          ]
        }
      ]
    }
  ]
}