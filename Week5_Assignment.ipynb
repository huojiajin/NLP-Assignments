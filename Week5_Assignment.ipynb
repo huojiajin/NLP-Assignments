{
  "nbformat": 4,
  "nbformat_minor": 0,
  "metadata": {
    "colab": {
      "provenance": [],
      "authorship_tag": "ABX9TyOLOCP0eFyaMrIiV0LErLoC",
      "include_colab_link": true
    },
    "kernelspec": {
      "name": "python3",
      "display_name": "Python 3"
    },
    "language_info": {
      "name": "python"
    }
  },
  "cells": [
    {
      "cell_type": "markdown",
      "metadata": {
        "id": "view-in-github",
        "colab_type": "text"
      },
      "source": [
        "<a href=\"https://colab.research.google.com/github/huojiajin/NLP-Assignments/blob/main/Week5_Assignment.ipynb\" target=\"_parent\"><img src=\"https://colab.research.google.com/assets/colab-badge.svg\" alt=\"Open In Colab\"/></a>"
      ]
    },
    {
      "cell_type": "code",
      "execution_count": null,
      "metadata": {
        "id": "imTqsns3C2Bu"
      },
      "outputs": [],
      "source": [
        "# Load Libraries\n",
        "import pandas as pd\n",
        "import numpy as np\n",
        "\n",
        "# CountVectorizer\n",
        "from sklearn.feature_extraction.text import CountVectorizer\n",
        "\n",
        "cv = CountVectorizer()\n",
        "\n",
        "# Read Corpus and convert into a Dataframe\n",
        "corpusClass = [[\"money,money,money\", \"true\"],\n",
        "        [\"free money for free gambling fun\", \"true\"],\n",
        "        [\"gambling for fun\", \"true\"],\n",
        "        [\"machine learning for fun,fun,fun\", \"false\"],\n",
        "        [\"free machine learning\", \"false\"]]\n",
        "\n",
        "df_corpusClass = pd.DataFrame(corpusClass, columns=['Sentence', 'Spam'])\n",
        "totalDocuments = len(corpusClass)"
      ]
    },
    {
      "cell_type": "code",
      "source": [
        "# Count Vectorizer\n",
        "X = cv.fit_transform(df_corpusClass['Sentence'])\n",
        "vocabulary = len(cv.get_feature_names_out())\n",
        "\n",
        "# Count Vector\n",
        "df_ALL = pd.DataFrame(X.toarray(), columns = cv.get_feature_names_out())\n",
        "df_ALL['Spam'] = df_corpusClass['Spam']\n",
        "print(df_ALL)\n",
        "\n",
        "# Compute First Level Probabilities\n",
        "t = df_ALL.where(df_ALL['Spam'] == 'true').dropna()\n",
        "p_true = len(t) / totalDocuments\n",
        "\n",
        "f = df_ALL.where(df_ALL['Spam'] == 'false').dropna()\n",
        "p_false = len(f) / totalDocuments\n",
        "\n",
        "print('First Level Probability : True Documents = ', p_true)\n",
        "print('First Level Probability : False Documents = ', p_false)"
      ],
      "metadata": {
        "colab": {
          "base_uri": "https://localhost:8080/"
        },
        "id": "Te8GbSOONG5x",
        "outputId": "ac8a1a21-29bf-44c8-9f43-ba168c24046d"
      },
      "execution_count": null,
      "outputs": [
        {
          "output_type": "stream",
          "name": "stdout",
          "text": [
            "   for  free  fun  gambling  learning  machine  money   Spam\n",
            "0    0     0    0         0         0        0      3   true\n",
            "1    1     2    1         1         0        0      1   true\n",
            "2    1     0    1         1         0        0      0   true\n",
            "3    1     0    3         0         1        1      0  false\n",
            "4    0     1    0         0         1        1      0  false\n",
            "First Level Probability : True Documents =  0.6\n",
            "First Level Probability : False Documents =  0.4\n"
          ]
        }
      ]
    },
    {
      "cell_type": "code",
      "source": [
        "# Function of Conditional Probabilities\n",
        "def compute_conditional_probabilities(df):\n",
        "  # Compute the SUM\n",
        "  sum_of_columns = df.sum(axis = 0)\n",
        "  df = df.append(sum_of_columns, ignore_index = True)\n",
        "  df.at[len(df) - 1, 'Spam'] = 'Sum' \n",
        "\n",
        "  # Compute the probabilities\n",
        "  totalTrueWords = 0\n",
        "  for i in range(vocabulary):\n",
        "    totalTrueWords = totalTrueWords + sum_of_columns[i]\n",
        "\n",
        "  conditional_prob = sum_of_columns\n",
        "\n",
        "  for i in range(vocabulary):\n",
        "    conditional_prob[i] = (conditional_prob[i] + 1) / (vocabulary + totalTrueWords)\n",
        "\n",
        "  df_true_sum_prob = df.append(conditional_prob, ignore_index = True)\n",
        "  df_true_sum_prob.at[len(df_true_sum_prob) - 1, 'Spam'] = 'Probability'\n",
        "  return_pd = df_true_sum_prob.T\n",
        "  \n",
        "  # Set the last col as the columns' name\n",
        "  columns = return_pd.loc['Spam']\n",
        "  return_pd.columns = list(columns)\n",
        "  return return_pd.drop('Spam')"
      ],
      "metadata": {
        "id": "KXHZu26TNInu"
      },
      "execution_count": null,
      "outputs": []
    },
    {
      "cell_type": "code",
      "source": [
        "# Compute Conditional Probabilities : where spam = true\n",
        "df_true_sum_prob_T = compute_conditional_probabilities(t)\n",
        "print(\"df_true_sum_prob_T:\")\n",
        "print(df_true_sum_prob_T)\n",
        "\n",
        "# Compute Conditional Probabilities : where spam = false\n",
        "df_false_sum_prob_T = compute_conditional_probabilities(f)\n",
        "print(\"df_false_sum_prob_T:\")\n",
        "print(df_false_sum_prob_T)"
      ],
      "metadata": {
        "colab": {
          "base_uri": "https://localhost:8080/"
        },
        "id": "yII43UKzNJ7N",
        "outputId": "1ffb2011-6581-422f-da13-cd8088687e0d"
      },
      "execution_count": null,
      "outputs": [
        {
          "output_type": "stream",
          "name": "stdout",
          "text": [
            "df_true_sum_prob_T:\n",
            "         true true true  Sum Probability\n",
            "for       0.0  1.0  1.0  2.0    0.157895\n",
            "free      0.0  2.0  0.0  2.0    0.157895\n",
            "fun       0.0  1.0  1.0  2.0    0.157895\n",
            "gambling  0.0  1.0  1.0  2.0    0.157895\n",
            "learning  0.0  0.0  0.0  0.0    0.052632\n",
            "machine   0.0  0.0  0.0  0.0    0.052632\n",
            "money     3.0  1.0  0.0  4.0    0.263158\n",
            "df_false_sum_prob_T:\n",
            "         false false  Sum Probability\n",
            "for        1.0   0.0  1.0       0.125\n",
            "free       0.0   1.0  1.0       0.125\n",
            "fun        3.0   0.0  3.0        0.25\n",
            "gambling   0.0   0.0  0.0      0.0625\n",
            "learning   1.0   1.0  2.0      0.1875\n",
            "machine    1.0   1.0  2.0      0.1875\n",
            "money      0.0   0.0  0.0      0.0625\n"
          ]
        }
      ]
    },
    {
      "cell_type": "code",
      "source": [
        "test_text = 'machine learning for free';\n",
        "\n",
        "test_words = test_text.split(\" \")\n",
        "\n",
        "p_true_given_text = 1\n",
        "p_false_given_text = 1\n",
        "for i in range(len(test_words)):\n",
        "  p_true_given_text = p_true_given_text * df_true_sum_prob_T.loc[test_words[i], \"Probability\"]\n",
        "  p_false_given_text = p_false_given_text * df_false_sum_prob_T.loc[test_words[i], \"Probability\"]\n",
        "\n",
        "print(\"Probability (spam = true | given text ‘machine learning for free’):\",format(p_true_given_text,'.10f'))\n",
        "print(\"Probability (spam = false | given text ‘machine learning for free’):\",format(p_false_given_text, '.10f'))"
      ],
      "metadata": {
        "colab": {
          "base_uri": "https://localhost:8080/"
        },
        "id": "66lQRPTGNO0k",
        "outputId": "925e65c2-f63a-46ea-8fd3-878d8aea0b12"
      },
      "execution_count": null,
      "outputs": [
        {
          "output_type": "stream",
          "name": "stdout",
          "text": [
            "Probability (spam = true | given text ‘machine learning for free’): 0.0000690602\n",
            "Probability (spam = false | given text ‘machine learning for free’): 0.0005493164\n"
          ]
        }
      ]
    }
  ]
}