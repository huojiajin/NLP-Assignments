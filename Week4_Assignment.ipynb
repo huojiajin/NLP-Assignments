{
  "nbformat": 4,
  "nbformat_minor": 0,
  "metadata": {
    "colab": {
      "provenance": [],
      "authorship_tag": "ABX9TyM429oJ070Im8S7bolkEj2T",
      "include_colab_link": true
    },
    "kernelspec": {
      "name": "python3",
      "display_name": "Python 3"
    },
    "language_info": {
      "name": "python"
    }
  },
  "cells": [
    {
      "cell_type": "markdown",
      "metadata": {
        "id": "view-in-github",
        "colab_type": "text"
      },
      "source": [
        "<a href=\"https://colab.research.google.com/github/huojiajin/NLP-Assignments/blob/main/Week4_Assignment.ipynb\" target=\"_parent\"><img src=\"https://colab.research.google.com/assets/colab-badge.svg\" alt=\"Open In Colab\"/></a>"
      ]
    },
    {
      "cell_type": "code",
      "source": [
        "# Import the tools\n",
        "import numpy as np\n",
        "from scipy import linalg as lg\n",
        "from scipy.linalg import svd\n",
        "from sklearn.feature_extraction.text import CountVectorizer\n",
        "from sklearn.decomposition import TruncatedSVD\n",
        "import pandas as pd\n",
        "import matplotlib.pyplot as plt\n",
        "import re\n",
        "from sklearn.feature_extraction.text import CountVectorizer"
      ],
      "metadata": {
        "id": "t-KFZICbbkZ9"
      },
      "execution_count": null,
      "outputs": []
    },
    {
      "cell_type": "markdown",
      "source": [
        "**Problem#1**\n",
        "Compute the Eigen vectors and Eigen values of the following 3 matrices.\n",
        "1. [2 0\n",
        "\n",
        "  0 5]\n",
        "2. [4 1 6\n",
        "\n",
        "  0 2 3\n",
        "\n",
        "  0 0 9]\n",
        "3. [1 4 0 0\n",
        "\n",
        "  0 2 0 0\n",
        "\n",
        "  5 3 1 1\n",
        "  \n",
        "  4 7 2 2]\n",
        "\n",
        "Can we compute the Eigen values and Eigen vectors of a non-square matrix?"
      ],
      "metadata": {
        "id": "_TBMIgyYLjAG"
      }
    },
    {
      "cell_type": "code",
      "execution_count": null,
      "metadata": {
        "colab": {
          "base_uri": "https://localhost:8080/"
        },
        "id": "TlPAcUOkLanT",
        "outputId": "d1c1ed3c-8558-4030-acf5-adf24620f2c5"
      },
      "outputs": [
        {
          "output_type": "stream",
          "name": "stdout",
          "text": [
            "1:\n",
            "[[2 0]\n",
            " [0 5]]\n",
            "\n",
            "[2.+0.j 5.+0.j]\n",
            "\n",
            "[[1. 0.]\n",
            " [0. 1.]]\n",
            "2:\n",
            "[[4 1 6]\n",
            " [0 2 3]\n",
            " [0 0 9]]\n",
            "\n",
            "[4.+0.j 2.+0.j 9.+0.j]\n",
            "\n",
            "[[ 1.         -0.4472136   0.76337004]\n",
            " [ 0.          0.89442719  0.25445668]\n",
            " [ 0.          0.          0.59373225]]\n",
            "2:\n",
            "[[1 4 0 0]\n",
            " [0 2 0 0]\n",
            " [5 3 1 1]\n",
            " [4 7 2 2]]\n",
            "\n",
            "[0.+0.j 3.+0.j 1.+0.j 2.+0.j]\n",
            "\n",
            "[[ 0.          0.          0.19518001  0.10929207]\n",
            " [ 0.          0.          0.          0.02732302]\n",
            " [-0.70710678 -0.4472136   0.09759001 -0.31421469]\n",
            " [ 0.70710678 -0.89442719 -0.97590007 -0.94264406]]\n"
          ]
        }
      ],
      "source": [
        "# The first matric\n",
        "A = np.array([[2,0],[0,5]])\n",
        "values, vector = lg.eig(A)\n",
        "print('1:')\n",
        "print(A)\n",
        "print()\n",
        "print(values)\n",
        "print()\n",
        "print(vector)\n",
        "\n",
        "# The second matric\n",
        "B = np.array([[4,1,6], [0,2,3], [0,0,9]])\n",
        "values, vector = lg.eig(B)\n",
        "print('2:')\n",
        "print(B)\n",
        "print()\n",
        "print(values)\n",
        "print()\n",
        "print(vector)\n",
        "\n",
        "# The last matric\n",
        "C = np.array([[1,4,0,0], [0,2,0,0], [5,3,1,1], [4,7,2,2]])\n",
        "values, vector = lg.eig(C)\n",
        "print('2:')\n",
        "print(C)\n",
        "print()\n",
        "print(values)\n",
        "print()\n",
        "print(vector)"
      ]
    },
    {
      "cell_type": "markdown",
      "source": [
        "We can't compute the Eigen values and Eigen vectors of a non-square matrix"
      ],
      "metadata": {
        "id": "7PprPE41NjBC"
      }
    },
    {
      "cell_type": "markdown",
      "source": [
        "**Problem#2** Compute the SVD (Singular Value Decomposition) (3 separate matrices U,Sigma,V) of the following matrix.\n",
        "\n",
        "    𝐴=[5 7 21 32\n",
        "\n",
        "      0 3 43 24\n",
        "\n",
        "      2 36 95 84\n",
        "\n",
        "      92 37 57 64]\n",
        "\n",
        "Verify that by multiplying (Matrix multiplication) of the 3 SVD matrices will result in the original matrix."
      ],
      "metadata": {
        "id": "bqTTNMrMOEDe"
      }
    },
    {
      "cell_type": "code",
      "source": [
        "A = np.array([[5,7,21,32], [0,3,43,24], [2,36,95,84], [92,37,57,64]])\n",
        "\n",
        "# Control the accuracy\n",
        "np.set_printoptions(precision = 4, suppress = True)\n",
        "\n",
        "# Caculator the SVD\n",
        "V, Sigma, UStar = svd(A)\n",
        "\n",
        "print('V:\\n', V, '\\n\\n', 'Sigma:\\n', Sigma, '\\n\\n', 'UStar:\\n', UStar)\n",
        "\n",
        "sigmaMatrix = np.diag(Sigma)\n",
        "res = np.dot(V, sigmaMatrix)\n",
        "recreateA = np.dot(res, UStar)\n",
        "\n",
        "print('\\nRecreated Matrix A: \\n', recreateA)\n",
        "print('\\nOriginal Matrix A: \\n', A)"
      ],
      "metadata": {
        "colab": {
          "base_uri": "https://localhost:8080/"
        },
        "id": "N04G9oe7Ni6x",
        "outputId": "0e09d087-e910-4362-d187-013634f4092f"
      },
      "execution_count": null,
      "outputs": [
        {
          "output_type": "stream",
          "name": "stdout",
          "text": [
            "V:\n",
            " [[-0.2047 -0.1045 -0.5134 -0.8268]\n",
            " [-0.2402 -0.2629  0.8326 -0.4243]\n",
            " [-0.686  -0.5954 -0.1983  0.3682]\n",
            " [-0.6556  0.7519  0.0627  0.0283]] \n",
            "\n",
            " Sigma:\n",
            " [181.0895  73.8151  14.8546   8.3222] \n",
            "\n",
            " UStar:\n",
            " [[-0.3463 -0.2822 -0.647  -0.6179]\n",
            " [ 0.914   0.0659 -0.3686 -0.1564]\n",
            " [ 0.1889 -0.3981  0.6569 -0.6119]\n",
            " [-0.0951  0.8704  0.1186 -0.4684]]\n",
            "\n",
            "Recreated Matrix A: \n",
            " [[ 5.  7. 21. 32.]\n",
            " [-0.  3. 43. 24.]\n",
            " [ 2. 36. 95. 84.]\n",
            " [92. 37. 57. 64.]]\n",
            "\n",
            "Original Matrix A: \n",
            " [[ 5  7 21 32]\n",
            " [ 0  3 43 24]\n",
            " [ 2 36 95 84]\n",
            " [92 37 57 64]]\n"
          ]
        }
      ]
    },
    {
      "cell_type": "markdown",
      "source": [
        "**Problem 3**\n",
        "Start with Matrix A created in the previous problem.\n",
        "\n",
        "Make the first row of matrix ‘A’ be the sum of the 2nd and the 3rd rows. Make the last row of Matrix A same as the 2nd row. See the Python code below to create this new matrix.\n",
        "\n",
        "Compute the SVD of this new matrix. Why the last 2 values of the ‘Sigma’ matrix values are zeros. Explain."
      ],
      "metadata": {
        "id": "FVpRSCfzQXbh"
      }
    },
    {
      "cell_type": "code",
      "source": [
        "# Create the new matrix\n",
        "A[0] = A[1] + A[2]\n",
        "A[-1] = A[1]\n",
        "print('New Matrix: \\n', A)\n",
        "\n",
        "# Caculator the SVD\n",
        "V, Sigma, UStar = svd(A)\n",
        "\n",
        "print('\\nV:\\n', V, '\\n\\n', 'Sigma:\\n', Sigma, '\\n\\n', 'UStar:\\n', UStar)"
      ],
      "metadata": {
        "colab": {
          "base_uri": "https://localhost:8080/"
        },
        "id": "VwfmYoN-QimF",
        "outputId": "ad6b69ef-032d-4d1c-9b49-ed8cfa4028b7"
      },
      "execution_count": null,
      "outputs": [
        {
          "output_type": "stream",
          "name": "stdout",
          "text": [
            "New Matrix: \n",
            " [[  2  39 138 108]\n",
            " [  0   3  43  24]\n",
            " [  2  36  95  84]\n",
            " [  0   3  43  24]]\n",
            "\n",
            "V:\n",
            " [[-0.7716 -0.0679  0.6324  0.0073]\n",
            " [-0.2066 -0.5978 -0.308  -0.7107]\n",
            " [-0.565   0.5298 -0.6324 -0.0073]\n",
            " [-0.2066 -0.5978 -0.3244  0.7034]] \n",
            "\n",
            " Sigma:\n",
            " [232.67    18.6197   0.       0.    ] \n",
            "\n",
            " UStar:\n",
            " [[-0.0115 -0.2221 -0.7647 -0.6048]\n",
            " [ 0.0496  0.6895 -0.5611  0.4553]\n",
            " [ 0.146   0.6756  0.3157 -0.65  ]\n",
            " [-0.988   0.1371  0.0274 -0.0662]]\n"
          ]
        }
      ]
    },
    {
      "cell_type": "markdown",
      "source": [
        "the last 2 values of the ‘Sigma’ matrix values are zeros is because of the 'Sigma' matrix shows the dependency of data. After the transform of the origin matrix, the 1th row is denpend on the 2th row and the 3th row, and the last row depend on the 2th row. So the rank of the matrix is 2 and the last 2 values are zeros."
      ],
      "metadata": {
        "id": "pKLBx0XSUA30"
      }
    },
    {
      "cell_type": "markdown",
      "source": [
        "**Problem#4**\n",
        "Compute the SVD (Singular Value Decomposition) (3 separate matrices U, Sigma, V) of the following 2 rectangular matrices.\n",
        "4. [3 1 1\n",
        "\n",
        "  −1 3 1]\n",
        "5. [1 1 0\n",
        "\n",
        "  1 −1 1]\n",
        "\n",
        "Verify that by multiplying (Matrix multiplication) the 3 SVD matrices will result in the original matrix."
      ],
      "metadata": {
        "id": "1F3wiFL_W1lV"
      }
    },
    {
      "cell_type": "code",
      "source": [
        "# 4\n",
        "A = np.array([[3,1,1], [-1,3,1]])\n",
        "# Caculate\n",
        "V, Sigma, UStar = svd(A)\n",
        "print('4:')\n",
        "print('\\nV:\\n', V, '\\n\\n', 'Sigma:\\n', Sigma, '\\n\\n', 'UStar:\\n', UStar)\n",
        "\n",
        "# Verify\n",
        "# Convert the Sigma martix and fill by zero\n",
        "sigmaMatrix = np.diag(Sigma)\n",
        "z = np.zeros((2,1))\n",
        "sigmaMatrix_extended = np.hstack((sigmaMatrix, z))\n",
        "# multiple and re-create the origin martix\n",
        "res = np.dot(V, sigmaMatrix_extended)\n",
        "recreateA = np.dot(res, UStar)\n",
        "print('\\nVerify')\n",
        "print('\\nRecreated Matrix A: \\n', recreateA)\n",
        "print('\\nOriginal Matrix A: \\n', A)"
      ],
      "metadata": {
        "colab": {
          "base_uri": "https://localhost:8080/"
        },
        "id": "E31Pmr0ASZ4t",
        "outputId": "4ff77eee-352d-4beb-eda0-2431eaaed307"
      },
      "execution_count": null,
      "outputs": [
        {
          "output_type": "stream",
          "name": "stdout",
          "text": [
            "4:\n",
            "\n",
            "V:\n",
            " [[-0.7071 -0.7071]\n",
            " [-0.7071  0.7071]] \n",
            "\n",
            " Sigma:\n",
            " [3.4641 3.1623] \n",
            "\n",
            " UStar:\n",
            " [[-0.4082 -0.8165 -0.4082]\n",
            " [-0.8944  0.4472  0.    ]\n",
            " [-0.1826 -0.3651  0.9129]]\n",
            "\n",
            "Verify\n",
            "\n",
            "Recreated Matrix A: \n",
            " [[ 3.  1.  1.]\n",
            " [-1.  3.  1.]]\n",
            "\n",
            "Original Matrix A: \n",
            " [[ 3  1  1]\n",
            " [-1  3  1]]\n"
          ]
        }
      ]
    },
    {
      "cell_type": "code",
      "source": [
        "# 5\n",
        "A = np.array([[1,1,0], [1, -1, 1]])\n",
        "\n",
        "# Caculate\n",
        "V, Sigma, UStar = svd(A)\n",
        "print('5:')\n",
        "print('\\nV:\\n', V, '\\n\\n', 'Sigma:\\n', Sigma, '\\n\\n', 'UStar:\\n', UStar)\n",
        "\n",
        "# Verify\n",
        "# Convert the Sigma martix and fill by zero\n",
        "sigmaMatrix = np.diag(Sigma)\n",
        "z = np.zeros((2,1))\n",
        "sigmaMatrix_extended = np.hstack((sigmaMatrix, z))\n",
        "# multiple and re-create the origin martix\n",
        "res = np.dot(V, sigmaMatrix_extended)\n",
        "recreateA = np.dot(res, UStar)\n",
        "print('\\nVerify')\n",
        "print('\\nRecreated Matrix A: \\n', recreateA)\n",
        "print('\\nOriginal Matrix A: \\n', A)"
      ],
      "metadata": {
        "colab": {
          "base_uri": "https://localhost:8080/"
        },
        "id": "Dgtb80JHaqH-",
        "outputId": "7770e7fa-8194-4fe2-c090-810085dc2532"
      },
      "execution_count": null,
      "outputs": [
        {
          "output_type": "stream",
          "name": "stdout",
          "text": [
            "5:\n",
            "\n",
            "V:\n",
            " [[ 0. -1.]\n",
            " [ 1.  0.]] \n",
            "\n",
            " Sigma:\n",
            " [1.7321 1.4142] \n",
            "\n",
            " UStar:\n",
            " [[ 0.5774 -0.5774  0.5774]\n",
            " [-0.7071 -0.7071  0.    ]\n",
            " [-0.4082  0.4082  0.8165]]\n",
            "\n",
            "Verify\n",
            "\n",
            "Recreated Matrix A: \n",
            " [[ 1.  1.  0.]\n",
            " [ 1. -1.  1.]]\n",
            "\n",
            "Original Matrix A: \n",
            " [[ 1  1  0]\n",
            " [ 1 -1  1]]\n"
          ]
        }
      ]
    },
    {
      "cell_type": "markdown",
      "source": [
        "**Problem#5** \n",
        "\n",
        "Using the Singular Value Decomposition (SVD) principals, perform the Latent Semantics Analysis (LSA) of the following 6 documents. Divide these documents into 2 different topics. \n",
        "1. 'runs', \n",
        "2. 'runs pitcher innings', \n",
        "3. 'pitcher', \n",
        "4. 'touchdown', \n",
        "5. 'quarterback', \n",
        "6. 'touchdown quarterback' \n",
        "\n",
        "Use the following 2 libraries to solve this problem. \n",
        "\n",
        "• from sklearn.feature_extraction.text import CountVectorizer \n",
        "\n",
        "• from sklearn.decomposition import TruncatedSVD"
      ],
      "metadata": {
        "id": "aTF87dnSbIEb"
      }
    },
    {
      "cell_type": "code",
      "source": [
        "vectorizer = CountVectorizer()\n",
        "\n",
        "corpus = ['runs', 'runs pitcher innings', 'pitcher', 'touchdown', 'quarterback', 'touchdown quarterback']\n",
        "\n",
        "bag_of_words = vectorizer.fit_transform(corpus)\n",
        "\n",
        "# Document Term Matrix\n",
        "A_Document = bag_of_words.todense()\n",
        "\n",
        "sigma_signifant_num = 2\n",
        "svd = TruncatedSVD(n_components = sigma_signifant_num)\n",
        "lsa_Document = svd.fit_transform(A_Document)\n",
        "\n",
        "pd.set_option('display.float_format', lambda x: '%.3f' % x)\n",
        "\n",
        "topic_encoded_df = pd.DataFrame(lsa_Document, columns=[\"Topic-1\", \"Topic-2\"])\n",
        "topic_encoded_df[\"corpus\"] = corpus\n",
        "\n",
        "display(topic_encoded_df[['corpus', 'Topic-1', 'Topic-2']])\n",
        "\n",
        "\n"
      ],
      "metadata": {
        "colab": {
          "base_uri": "https://localhost:8080/",
          "height": 294
        },
        "id": "Adei1tx-bQzt",
        "outputId": "3c9bce23-201b-4e1c-be64-23f58f9e3893"
      },
      "execution_count": null,
      "outputs": [
        {
          "output_type": "stream",
          "name": "stderr",
          "text": [
            "/usr/local/lib/python3.7/dist-packages/sklearn/utils/validation.py:598: FutureWarning: np.matrix usage is deprecated in 1.0 and will raise a TypeError in 1.2. Please convert to a numpy array with np.asarray. For more information see: https://numpy.org/doc/stable/reference/generated/numpy.matrix.html\n",
            "  FutureWarning,\n"
          ]
        },
        {
          "output_type": "display_data",
          "data": {
            "text/plain": [
              "                  corpus  Topic-1  Topic-2\n",
              "0                   runs    0.628   -0.000\n",
              "1   runs pitcher innings    1.716   -0.000\n",
              "2                pitcher    0.628   -0.000\n",
              "3              touchdown    0.000    0.707\n",
              "4            quarterback    0.000    0.707\n",
              "5  touchdown quarterback    0.000    1.414"
            ],
            "text/html": [
              "\n",
              "  <div id=\"df-462e0908-26c2-4333-800f-2cff609c41b5\">\n",
              "    <div class=\"colab-df-container\">\n",
              "      <div>\n",
              "<style scoped>\n",
              "    .dataframe tbody tr th:only-of-type {\n",
              "        vertical-align: middle;\n",
              "    }\n",
              "\n",
              "    .dataframe tbody tr th {\n",
              "        vertical-align: top;\n",
              "    }\n",
              "\n",
              "    .dataframe thead th {\n",
              "        text-align: right;\n",
              "    }\n",
              "</style>\n",
              "<table border=\"1\" class=\"dataframe\">\n",
              "  <thead>\n",
              "    <tr style=\"text-align: right;\">\n",
              "      <th></th>\n",
              "      <th>corpus</th>\n",
              "      <th>Topic-1</th>\n",
              "      <th>Topic-2</th>\n",
              "    </tr>\n",
              "  </thead>\n",
              "  <tbody>\n",
              "    <tr>\n",
              "      <th>0</th>\n",
              "      <td>runs</td>\n",
              "      <td>0.628</td>\n",
              "      <td>-0.000</td>\n",
              "    </tr>\n",
              "    <tr>\n",
              "      <th>1</th>\n",
              "      <td>runs pitcher innings</td>\n",
              "      <td>1.716</td>\n",
              "      <td>-0.000</td>\n",
              "    </tr>\n",
              "    <tr>\n",
              "      <th>2</th>\n",
              "      <td>pitcher</td>\n",
              "      <td>0.628</td>\n",
              "      <td>-0.000</td>\n",
              "    </tr>\n",
              "    <tr>\n",
              "      <th>3</th>\n",
              "      <td>touchdown</td>\n",
              "      <td>0.000</td>\n",
              "      <td>0.707</td>\n",
              "    </tr>\n",
              "    <tr>\n",
              "      <th>4</th>\n",
              "      <td>quarterback</td>\n",
              "      <td>0.000</td>\n",
              "      <td>0.707</td>\n",
              "    </tr>\n",
              "    <tr>\n",
              "      <th>5</th>\n",
              "      <td>touchdown quarterback</td>\n",
              "      <td>0.000</td>\n",
              "      <td>1.414</td>\n",
              "    </tr>\n",
              "  </tbody>\n",
              "</table>\n",
              "</div>\n",
              "      <button class=\"colab-df-convert\" onclick=\"convertToInteractive('df-462e0908-26c2-4333-800f-2cff609c41b5')\"\n",
              "              title=\"Convert this dataframe to an interactive table.\"\n",
              "              style=\"display:none;\">\n",
              "        \n",
              "  <svg xmlns=\"http://www.w3.org/2000/svg\" height=\"24px\"viewBox=\"0 0 24 24\"\n",
              "       width=\"24px\">\n",
              "    <path d=\"M0 0h24v24H0V0z\" fill=\"none\"/>\n",
              "    <path d=\"M18.56 5.44l.94 2.06.94-2.06 2.06-.94-2.06-.94-.94-2.06-.94 2.06-2.06.94zm-11 1L8.5 8.5l.94-2.06 2.06-.94-2.06-.94L8.5 2.5l-.94 2.06-2.06.94zm10 10l.94 2.06.94-2.06 2.06-.94-2.06-.94-.94-2.06-.94 2.06-2.06.94z\"/><path d=\"M17.41 7.96l-1.37-1.37c-.4-.4-.92-.59-1.43-.59-.52 0-1.04.2-1.43.59L10.3 9.45l-7.72 7.72c-.78.78-.78 2.05 0 2.83L4 21.41c.39.39.9.59 1.41.59.51 0 1.02-.2 1.41-.59l7.78-7.78 2.81-2.81c.8-.78.8-2.07 0-2.86zM5.41 20L4 18.59l7.72-7.72 1.47 1.35L5.41 20z\"/>\n",
              "  </svg>\n",
              "      </button>\n",
              "      \n",
              "  <style>\n",
              "    .colab-df-container {\n",
              "      display:flex;\n",
              "      flex-wrap:wrap;\n",
              "      gap: 12px;\n",
              "    }\n",
              "\n",
              "    .colab-df-convert {\n",
              "      background-color: #E8F0FE;\n",
              "      border: none;\n",
              "      border-radius: 50%;\n",
              "      cursor: pointer;\n",
              "      display: none;\n",
              "      fill: #1967D2;\n",
              "      height: 32px;\n",
              "      padding: 0 0 0 0;\n",
              "      width: 32px;\n",
              "    }\n",
              "\n",
              "    .colab-df-convert:hover {\n",
              "      background-color: #E2EBFA;\n",
              "      box-shadow: 0px 1px 2px rgba(60, 64, 67, 0.3), 0px 1px 3px 1px rgba(60, 64, 67, 0.15);\n",
              "      fill: #174EA6;\n",
              "    }\n",
              "\n",
              "    [theme=dark] .colab-df-convert {\n",
              "      background-color: #3B4455;\n",
              "      fill: #D2E3FC;\n",
              "    }\n",
              "\n",
              "    [theme=dark] .colab-df-convert:hover {\n",
              "      background-color: #434B5C;\n",
              "      box-shadow: 0px 1px 3px 1px rgba(0, 0, 0, 0.15);\n",
              "      filter: drop-shadow(0px 1px 2px rgba(0, 0, 0, 0.3));\n",
              "      fill: #FFFFFF;\n",
              "    }\n",
              "  </style>\n",
              "\n",
              "      <script>\n",
              "        const buttonEl =\n",
              "          document.querySelector('#df-462e0908-26c2-4333-800f-2cff609c41b5 button.colab-df-convert');\n",
              "        buttonEl.style.display =\n",
              "          google.colab.kernel.accessAllowed ? 'block' : 'none';\n",
              "\n",
              "        async function convertToInteractive(key) {\n",
              "          const element = document.querySelector('#df-462e0908-26c2-4333-800f-2cff609c41b5');\n",
              "          const dataTable =\n",
              "            await google.colab.kernel.invokeFunction('convertToInteractive',\n",
              "                                                     [key], {});\n",
              "          if (!dataTable) return;\n",
              "\n",
              "          const docLinkHtml = 'Like what you see? Visit the ' +\n",
              "            '<a target=\"_blank\" href=https://colab.research.google.com/notebooks/data_table.ipynb>data table notebook</a>'\n",
              "            + ' to learn more about interactive tables.';\n",
              "          element.innerHTML = '';\n",
              "          dataTable['output_type'] = 'display_data';\n",
              "          await google.colab.output.renderOutput(dataTable, element);\n",
              "          const docLink = document.createElement('div');\n",
              "          docLink.innerHTML = docLinkHtml;\n",
              "          element.appendChild(docLink);\n",
              "        }\n",
              "      </script>\n",
              "    </div>\n",
              "  </div>\n",
              "  "
            ]
          },
          "metadata": {}
        }
      ]
    },
    {
      "cell_type": "markdown",
      "source": [
        "**Problem#5 - continued**\n",
        "1. Using the SK Learn CounVectorizer function, vectorize all the 6 documents in the corpus. Compute the “cosine similarity” & “cosine distance” between all the 6 document’s normalized vectors."
      ],
      "metadata": {
        "id": "ldrScJWLfXQu"
      }
    },
    {
      "cell_type": "code",
      "source": [
        "# Define the method\n",
        "def cosine_Similarity(pt1, pt2):\n",
        "  return np.dot(pt1, pt2)\n",
        "\n",
        "def normalized(pt1):\n",
        "  return pt1 / np.linalg.norm(pt1)\n",
        "\n",
        "# Create Normalized Vectors\n",
        "vectorsNormalized = []\n",
        "for vector in bag_of_words.toarray():\n",
        "  vectorsNormalized.append(normalized(vector))\n",
        "\n",
        "# Compute\n",
        "numDocu = len(corpus)\n",
        "cosine_SimtMatrix = np.zeros((numDocu, numDocu))\n",
        "cosine_DistMatrix = np.zeros((numDocu, numDocu))\n",
        "for i in range(numDocu):\n",
        "  for j in range(numDocu):\n",
        "    cosine_SimtMatrix[i,j] = cosine_Similarity(vectorsNormalized[i], vectorsNormalized[j])\n",
        "    cosine_DistMatrix[i,j] = 1- cosine_SimtMatrix[i,j]\n",
        "\n",
        "print('Cosine Similarity')\n",
        "print(cosine_SimtMatrix)\n",
        "print()\n",
        "print('Cosine Distance')\n",
        "print(cosine_DistMatrix)"
      ],
      "metadata": {
        "id": "7TtJ68zYfoCd",
        "colab": {
          "base_uri": "https://localhost:8080/"
        },
        "outputId": "ee5ba247-fb12-43a2-8dc5-af04b3187039"
      },
      "execution_count": null,
      "outputs": [
        {
          "output_type": "stream",
          "name": "stdout",
          "text": [
            "Cosine Similarity\n",
            "[[1.     0.5774 0.     0.     0.     0.    ]\n",
            " [0.5774 1.     0.5774 0.     0.     0.    ]\n",
            " [0.     0.5774 1.     0.     0.     0.    ]\n",
            " [0.     0.     0.     1.     0.     0.7071]\n",
            " [0.     0.     0.     0.     1.     0.7071]\n",
            " [0.     0.     0.     0.7071 0.7071 1.    ]]\n",
            "\n",
            "Cosine Distance\n",
            "[[ 0.      0.4226  1.      1.      1.      1.    ]\n",
            " [ 0.4226 -0.      0.4226  1.      1.      1.    ]\n",
            " [ 1.      0.4226  0.      1.      1.      1.    ]\n",
            " [ 1.      1.      1.      0.      1.      0.2929]\n",
            " [ 1.      1.      1.      1.      0.      0.2929]\n",
            " [ 1.      1.      1.      0.2929  0.2929  0.    ]]\n"
          ]
        }
      ]
    },
    {
      "cell_type": "markdown",
      "source": [
        "2. Compute the ‘Document Term Matrix’ (DTM) and ‘Term (Word) Document Matrix’ (TDM) using the document’s vectors."
      ],
      "metadata": {
        "id": "FH8o7-l9i7b_"
      }
    },
    {
      "cell_type": "code",
      "source": [
        "print('Term - word - Document Matrix - TDM')\n",
        "print('5 Words x 6 Docu')\n",
        "print(bag_of_words.todense().T)\n",
        "print()\n",
        "print('Document Term Matrix - DTM')\n",
        "print('6 Docu x 5 Words')\n",
        "print(bag_of_words.todense())"
      ],
      "metadata": {
        "colab": {
          "base_uri": "https://localhost:8080/"
        },
        "id": "lNzr0cphi8i-",
        "outputId": "6d6ed998-7910-4658-8b4f-88d1aa49424a"
      },
      "execution_count": null,
      "outputs": [
        {
          "output_type": "stream",
          "name": "stdout",
          "text": [
            "Term - word - Document Matrix - TDM\n",
            "5 Words x 6 Docu\n",
            "[[0 1 0 0 0 0]\n",
            " [0 1 1 0 0 0]\n",
            " [0 0 0 0 1 1]\n",
            " [1 1 0 0 0 0]\n",
            " [0 0 0 1 0 1]]\n",
            "\n",
            "Document Term Matrix - DTM\n",
            "6 Docu x 5 Words\n",
            "[[0 0 0 1 0]\n",
            " [1 1 0 1 0]\n",
            " [0 1 0 0 0]\n",
            " [0 0 0 0 1]\n",
            " [0 0 1 0 0]\n",
            " [0 0 1 0 1]]\n"
          ]
        }
      ]
    },
    {
      "cell_type": "markdown",
      "source": [
        "3. Compute the ‘Singular Value Decomposition’ (SVD) matrix for both DTM (Document Term Matrix) & TDM (Term Document Matrix) computed in the previous step. Using only the first 2 eigen values from the SVD and the SK Learn TruncatedSVD function, compute the Truncated DTM and TDM."
      ],
      "metadata": {
        "id": "-YUU2iSXjqwZ"
      }
    },
    {
      "cell_type": "code",
      "source": [
        "sigma_signifant_num = 2\n",
        "svd = TruncatedSVD(n_components = sigma_signifant_num)\n",
        "\n",
        "print('TDM(Word)Vector')\n",
        "lsa_Word = svd.fit_transform(bag_of_words.todense().T)\n",
        "print(lsa_Word)\n",
        "print()\n",
        "\n",
        "print('DTM(DOcument)Vector')\n",
        "lsa_Document = svd.fit_transform(bag_of_words.todense())\n",
        "print(lsa_Document)"
      ],
      "metadata": {
        "colab": {
          "base_uri": "https://localhost:8080/"
        },
        "id": "7Hl3ZDdNjpq5",
        "outputId": "34cf7f5b-9c3f-4096-a2b5-dde1a2d151d4"
      },
      "execution_count": null,
      "outputs": [
        {
          "output_type": "stream",
          "name": "stdout",
          "text": [
            "TDM(Word)Vector\n",
            "[[ 0.8881  0.    ]\n",
            " [ 1.2131  0.    ]\n",
            " [-0.      1.2247]\n",
            " [ 1.2131  0.    ]\n",
            " [-0.      1.2247]]\n",
            "\n",
            "DTM(DOcument)Vector\n",
            "[[ 0.628   0.    ]\n",
            " [ 1.7156  0.    ]\n",
            " [ 0.628   0.    ]\n",
            " [-0.      0.7071]\n",
            " [-0.      0.7071]\n",
            " [-0.      1.4142]]\n"
          ]
        },
        {
          "output_type": "stream",
          "name": "stderr",
          "text": [
            "/usr/local/lib/python3.7/dist-packages/sklearn/utils/validation.py:598: FutureWarning: np.matrix usage is deprecated in 1.0 and will raise a TypeError in 1.2. Please convert to a numpy array with np.asarray. For more information see: https://numpy.org/doc/stable/reference/generated/numpy.matrix.html\n",
            "  FutureWarning,\n",
            "/usr/local/lib/python3.7/dist-packages/sklearn/utils/validation.py:598: FutureWarning: np.matrix usage is deprecated in 1.0 and will raise a TypeError in 1.2. Please convert to a numpy array with np.asarray. For more information see: https://numpy.org/doc/stable/reference/generated/numpy.matrix.html\n",
            "  FutureWarning,\n"
          ]
        }
      ]
    },
    {
      "cell_type": "markdown",
      "source": [
        "4. What are the topics on which LSA has divided these set of documents?\n",
        "Plot all the 6 Truncated vectors with the following specifications.\n",
        "\n",
        "    • X-axis: Truncated DTM/Topic-1 values\n",
        "\n",
        "    • Y-axis: Truncated DTM/Topic-2 values\n",
        "\n",
        "    Compute the ‘cosine similarity’ and ‘cosine distance’ using the Truncated SVD."
      ],
      "metadata": {
        "id": "WMzokLXblm_V"
      }
    },
    {
      "cell_type": "code",
      "source": [
        "# Plot\n",
        "v0 = lsa_Document[:,0]\n",
        "v1 = lsa_Document[:,1]\n",
        "#print(v0)\n",
        "#print(v1)\n",
        "\n",
        "fig, ax = plt.subplots()\n",
        "\n",
        "plt.xlim([-1, 2])\n",
        "plt.ylim([-1, 2])\n",
        "ax.scatter(list(np.abs(v0)), list(np.abs(v1)), color = 'red')\n",
        "ax.axhline(y = 0, color = 'k')\n",
        "ax.axvline(x = 0, color = 'k')\n",
        "plt.xlabel(\"Topic-1\")\n",
        "plt.ylabel(\"Topic-2\")"
      ],
      "metadata": {
        "colab": {
          "base_uri": "https://localhost:8080/",
          "height": 301
        },
        "id": "SPktVlCHltoQ",
        "outputId": "07751141-f669-4716-ed34-929fc399ce91"
      },
      "execution_count": null,
      "outputs": [
        {
          "output_type": "execute_result",
          "data": {
            "text/plain": [
              "Text(0, 0.5, 'Topic-2')"
            ]
          },
          "metadata": {},
          "execution_count": 11
        },
        {
          "output_type": "display_data",
          "data": {
            "text/plain": [
              "<Figure size 432x288 with 1 Axes>"
            ],
            "image/png": "[encoded data removed]"
          },
          "metadata": {
            "needs_background": "light"
          }
        }
      ]
    },
    {
      "cell_type": "code",
      "source": [
        "# Compute the ‘cosine similarity’ and ‘cosine distance'\n",
        "numDocu = len(lsa_Document)\n",
        "vectorsNormalized = []\n",
        "\n",
        "for vector in lsa_Document:\n",
        "  vectorsNormalized.append(normalized(vector))\n",
        "\n",
        "cosine_SimtMatrix = np.zeros((numDocu, numDocu))\n",
        "cosine_DistMatrix = np.zeros((numDocu, numDocu))\n",
        "for i in range(numDocu):\n",
        "  for j in range(numDocu):\n",
        "    cosine_SimtMatrix[i,j] = cosine_Similarity(vectorsNormalized[i], vectorsNormalized[j])\n",
        "    cosine_DistMatrix[i,j] = 1- cosine_SimtMatrix[i,j]\n",
        "\n",
        "print('Cosine Similarity')\n",
        "print(cosine_SimtMatrix)\n",
        "print()\n",
        "print('Cosine Distance')\n",
        "print(cosine_DistMatrix)"
      ],
      "metadata": {
        "colab": {
          "base_uri": "https://localhost:8080/"
        },
        "id": "3QCpqaUcqr2k",
        "outputId": "937a4f2d-bcf7-4775-c59c-276168d2d9eb"
      },
      "execution_count": null,
      "outputs": [
        {
          "output_type": "stream",
          "name": "stdout",
          "text": [
            "Cosine Similarity\n",
            "[[ 1.  1.  1.  0.  0.  0.]\n",
            " [ 1.  1.  1.  0. -0. -0.]\n",
            " [ 1.  1.  1.  0. -0. -0.]\n",
            " [ 0.  0.  0.  1.  1.  1.]\n",
            " [ 0. -0. -0.  1.  1.  1.]\n",
            " [ 0. -0. -0.  1.  1.  1.]]\n",
            "\n",
            "Cosine Distance\n",
            "[[0. 0. 0. 1. 1. 1.]\n",
            " [0. 0. 0. 1. 1. 1.]\n",
            " [0. 0. 0. 1. 1. 1.]\n",
            " [1. 1. 1. 0. 0. 0.]\n",
            " [1. 1. 1. 0. 0. 0.]\n",
            " [1. 1. 1. 0. 0. 0.]]\n"
          ]
        }
      ]
    },
    {
      "cell_type": "markdown",
      "source": [
        "5. Which documents are more appropriate for ‘Topic-1’ and ‘Topic-2’?"
      ],
      "metadata": {
        "id": "eH_5RlwProMg"
      }
    },
    {
      "cell_type": "markdown",
      "source": [
        "Document0、Document1、Document2 are more appropriate for 'Topic-1', and the rest of the Documents are more appropriate for 'Topic-2'"
      ],
      "metadata": {
        "id": "45FJSUHdrpQz"
      }
    },
    {
      "cell_type": "markdown",
      "source": [
        "6. Which are the top 2 words that describe ‘Topic-1’ and ‘Topic-2’?\n"
      ],
      "metadata": {
        "id": "XBZhbchYtY9g"
      }
    },
    {
      "cell_type": "code",
      "source": [
        "cv = CountVectorizer();\n",
        "X = cv.fit_transform(corpus)\n",
        "\n",
        "encoding_matrix = pd.DataFrame(svd.components_, index = ['Topic-1', 'Topic-2'], columns = cv.get_feature_names_out()).T\n",
        "print(encoding_matrix)"
      ],
      "metadata": {
        "colab": {
          "base_uri": "https://localhost:8080/"
        },
        "id": "ELMhDh4i1Y3R",
        "outputId": "4a974a69-3ad5-4b7a-8b36-b7f1a585f8d6"
      },
      "execution_count": null,
      "outputs": [
        {
          "output_type": "stream",
          "name": "stdout",
          "text": [
            "             Topic-1  Topic-2\n",
            "innings        0.460   -0.000\n",
            "pitcher        0.628    0.000\n",
            "quarterback   -0.000    0.707\n",
            "runs           0.628    0.000\n",
            "touchdown     -0.000    0.707\n"
          ]
        }
      ]
    },
    {
      "cell_type": "markdown",
      "source": [
        "The top 2 words describe 'Topic-1' is 'pitcher' and 'runs'\n",
        "\n",
        "The top 2 words describe 'Topic-2' is 'quarterback' and 'touchdown'"
      ],
      "metadata": {
        "id": "hZ-2HLzr0Ioq"
      }
    },
    {
      "cell_type": "markdown",
      "source": [
        "**Optional:**\n",
        "\n",
        "Compute the ‘Singular Value Decomposition’ (SVD) matrix for both DTM (Document Term Matrix) & TDM (Term Document Matrix) matrices.\n",
        "\n",
        "Using only the first 2 eigen values from the SVD, create the Truncated DTM and Truncated TDM matrices WITHOUT using SK Learn TruncatedSVD function."
      ],
      "metadata": {
        "id": "Uqqpl3_j64nb"
      }
    },
    {
      "cell_type": "code",
      "source": [
        "np.set_printoptions(precision = 4, suppress = True)\n",
        "\n",
        "def no_sk_truncate(pt1):\n",
        "  V, Sigma, UStar = svd(pt1)\n",
        "  sigma_signifant_num = 2\n",
        "  Truncated_UMatrix = V[:,:sigma_signifant_num]\n",
        "  Truncated_SigmaMatrix = Sigma[:sigma_signifant_num]\n",
        "  Truncated_Full_SigmaMatrix = np.diag(Truncated_SigmaMatrix)\n",
        "  reduced_matrix = np.dot(Truncated_UMatrix, Truncated_Full_SigmaMatrix)\n",
        "  print(reduced_matrix)\n",
        "\n",
        "print('Truncated TDM')\n",
        "print(no_sk_truncate(bag_of_words.todense().T))\n",
        "print()\n",
        "print('Truncated DTM')\n",
        "print(no_sk_truncate(bag_of_words.todense()))"
      ],
      "metadata": {
        "colab": {
          "base_uri": "https://localhost:8080/"
        },
        "id": "yZ2y8kO26-MJ",
        "outputId": "7154e5df-c4a8-492f-e3c7-1e8723b643cf"
      },
      "execution_count": null,
      "outputs": [
        {
          "output_type": "stream",
          "name": "stdout",
          "text": [
            "Truncated TDM\n",
            "[[-0.8881  0.    ]\n",
            " [-1.2131  0.    ]\n",
            " [ 0.     -1.2247]\n",
            " [-1.2131  0.    ]\n",
            " [ 0.     -1.2247]]\n",
            "None\n",
            "\n",
            "Truncated DTM\n",
            "[[-0.628   0.    ]\n",
            " [-1.7156  0.    ]\n",
            " [-0.628   0.    ]\n",
            " [ 0.      0.7071]\n",
            " [ 0.      0.7071]\n",
            " [ 0.      1.4142]]\n",
            "None\n"
          ]
        }
      ]
    }
  ]
}