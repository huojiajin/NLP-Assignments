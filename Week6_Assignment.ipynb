{
  "nbformat": 4,
  "nbformat_minor": 0,
  "metadata": {
    "colab": {
      "provenance": [],
      "authorship_tag": "ABX9TyNhlDQxNjkjrxjytjndOe7Q",
      "include_colab_link": true
    },
    "kernelspec": {
      "name": "python3",
      "display_name": "Python 3"
    },
    "language_info": {
      "name": "python"
    }
  },
  "cells": [
    {
      "cell_type": "markdown",
      "metadata": {
        "id": "view-in-github",
        "colab_type": "text"
      },
      "source": [
        "<a href=\"https://colab.research.google.com/github/huojiajin/NLP-Assignments/blob/main/Week6_Assignment.ipynb\" target=\"_parent\"><img src=\"https://colab.research.google.com/assets/colab-badge.svg\" alt=\"Open In Colab\"/></a>"
      ]
    },
    {
      "cell_type": "code",
      "execution_count": null,
      "metadata": {
        "colab": {
          "base_uri": "https://localhost:8080/"
        },
        "id": "brWT0viExLbg",
        "outputId": "4ea12310-248d-4334-8b47-935fe447955e"
      },
      "outputs": [
        {
          "output_type": "stream",
          "name": "stdout",
          "text": [
            "2.9.2\n"
          ]
        }
      ],
      "source": [
        "import tensorflow as tf\n",
        "print(tf.__version__)\n",
        "\n",
        "import numpy as np\n",
        "\n",
        "import pandas as pd\n",
        "pd.set_option('precision', 8)"
      ]
    },
    {
      "cell_type": "markdown",
      "source": [
        "**Problem#1**"
      ],
      "metadata": {
        "id": "WCKGkql3OZnI"
      }
    },
    {
      "cell_type": "code",
      "source": [
        "# Init a result array\n",
        "result = []\n",
        "\n",
        "# Input Data\n",
        "inputData = tf.constant([[0.1, 0.2]])\n",
        "\n",
        "# Layer 1\n",
        "w1 = tf.constant([[0.15], [0.05]])\n",
        "b1 = 0.33\n",
        "z1 = tf.matmul(inputData, w1) + b1\n",
        "print(\"z1 : \", z1)\n",
        "\n",
        "# Define a method to calculate the result of Layer 2\n",
        "def calculate_layer2(a1):\n",
        "  w2 = tf.constant([0.36])\n",
        "  b2 = 0.56\n",
        "  z2 = a1 * w2 + b2;\n",
        "  print(\"z2 : \", z2)\n",
        "  return a1 * w2 + b2\n",
        "\n",
        "# Sigmoid\n",
        "a1 = tf.sigmoid(tf.cast(z1, tf.float32))\n",
        "z2 = calculate_layer2(a1)\n",
        "a2 = tf.sigmoid(tf.cast(z2, tf.float32))\n",
        "result.append([\"Sigmiod\", np.round(a1.numpy(), 3)[0][0], np.round(a2.numpy(), 3)[0][0]])\n",
        "\n",
        "# Linear\n",
        "a1 = z1\n",
        "z2 = calculate_layer2(a1)\n",
        "a2 = z2\n",
        "result.append([\"Linear\", np.round(a1.numpy(), 3)[0][0], np.round(a2.numpy(), 3)[0][0]])\n",
        "\n",
        "# Tanh\n",
        "a1 = tf.tanh(z1)\n",
        "z2 = calculate_layer2(a1)\n",
        "a2 = tf.tanh(z2)\n",
        "result.append([\"Tanh\", np.round(a1.numpy(), 3)[0][0], np.round(a2.numpy(), 3)[0][0]])\n",
        "\n",
        "# ReLu\n",
        "a1 = tf.nn.relu(z1)\n",
        "z2 = calculate_layer2(a1)\n",
        "a2 = tf.nn.relu(z2)\n",
        "result.append([\"ReLu\", np.round(a1.numpy(), 3)[0][0], np.round(a2.numpy(), 3)[0][0]])\n",
        "\n",
        "df = pd.DataFrame(result, columns = [\"Activation Function\", \"a1\", \"a2\"])\n",
        "df"
      ],
      "metadata": {
        "colab": {
          "base_uri": "https://localhost:8080/",
          "height": 267
        },
        "id": "0dN3crwCxsV5",
        "outputId": "6679aa18-6529-41bc-d97a-d0b8d81a640d"
      },
      "execution_count": null,
      "outputs": [
        {
          "output_type": "stream",
          "name": "stdout",
          "text": [
            "z1 :  tf.Tensor([[0.35500002]], shape=(1, 1), dtype=float32)\n",
            "z2 :  tf.Tensor([[0.7716186]], shape=(1, 1), dtype=float32)\n",
            "z2 :  tf.Tensor([[0.68780005]], shape=(1, 1), dtype=float32)\n",
            "z2 :  tf.Tensor([[0.68268883]], shape=(1, 1), dtype=float32)\n",
            "z2 :  tf.Tensor([[0.68780005]], shape=(1, 1), dtype=float32)\n"
          ]
        },
        {
          "output_type": "execute_result",
          "data": {
            "text/plain": [
              "  Activation Function     a1     a2\n",
              "0             Sigmiod  0.588  0.684\n",
              "1              Linear  0.355  0.688\n",
              "2                Tanh  0.341  0.593\n",
              "3                ReLu  0.355  0.688"
            ],
            "text/html": [
              "\n",
              "  <div id=\"df-c0c88bd6-9035-4c1b-9832-fd8613877d4d\">\n",
              "    <div class=\"colab-df-container\">\n",
              "      <div>\n",
              "<style scoped>\n",
              "    .dataframe tbody tr th:only-of-type {\n",
              "        vertical-align: middle;\n",
              "    }\n",
              "\n",
              "    .dataframe tbody tr th {\n",
              "        vertical-align: top;\n",
              "    }\n",
              "\n",
              "    .dataframe thead th {\n",
              "        text-align: right;\n",
              "    }\n",
              "</style>\n",
              "<table border=\"1\" class=\"dataframe\">\n",
              "  <thead>\n",
              "    <tr style=\"text-align: right;\">\n",
              "      <th></th>\n",
              "      <th>Activation Function</th>\n",
              "      <th>a1</th>\n",
              "      <th>a2</th>\n",
              "    </tr>\n",
              "  </thead>\n",
              "  <tbody>\n",
              "    <tr>\n",
              "      <th>0</th>\n",
              "      <td>Sigmiod</td>\n",
              "      <td>0.588</td>\n",
              "      <td>0.684</td>\n",
              "    </tr>\n",
              "    <tr>\n",
              "      <th>1</th>\n",
              "      <td>Linear</td>\n",
              "      <td>0.355</td>\n",
              "      <td>0.688</td>\n",
              "    </tr>\n",
              "    <tr>\n",
              "      <th>2</th>\n",
              "      <td>Tanh</td>\n",
              "      <td>0.341</td>\n",
              "      <td>0.593</td>\n",
              "    </tr>\n",
              "    <tr>\n",
              "      <th>3</th>\n",
              "      <td>ReLu</td>\n",
              "      <td>0.355</td>\n",
              "      <td>0.688</td>\n",
              "    </tr>\n",
              "  </tbody>\n",
              "</table>\n",
              "</div>\n",
              "      <button class=\"colab-df-convert\" onclick=\"convertToInteractive('df-c0c88bd6-9035-4c1b-9832-fd8613877d4d')\"\n",
              "              title=\"Convert this dataframe to an interactive table.\"\n",
              "              style=\"display:none;\">\n",
              "        \n",
              "  <svg xmlns=\"http://www.w3.org/2000/svg\" height=\"24px\"viewBox=\"0 0 24 24\"\n",
              "       width=\"24px\">\n",
              "    <path d=\"M0 0h24v24H0V0z\" fill=\"none\"/>\n",
              "    <path d=\"M18.56 5.44l.94 2.06.94-2.06 2.06-.94-2.06-.94-.94-2.06-.94 2.06-2.06.94zm-11 1L8.5 8.5l.94-2.06 2.06-.94-2.06-.94L8.5 2.5l-.94 2.06-2.06.94zm10 10l.94 2.06.94-2.06 2.06-.94-2.06-.94-.94-2.06-.94 2.06-2.06.94z\"/><path d=\"M17.41 7.96l-1.37-1.37c-.4-.4-.92-.59-1.43-.59-.52 0-1.04.2-1.43.59L10.3 9.45l-7.72 7.72c-.78.78-.78 2.05 0 2.83L4 21.41c.39.39.9.59 1.41.59.51 0 1.02-.2 1.41-.59l7.78-7.78 2.81-2.81c.8-.78.8-2.07 0-2.86zM5.41 20L4 18.59l7.72-7.72 1.47 1.35L5.41 20z\"/>\n",
              "  </svg>\n",
              "      </button>\n",
              "      \n",
              "  <style>\n",
              "    .colab-df-container {\n",
              "      display:flex;\n",
              "      flex-wrap:wrap;\n",
              "      gap: 12px;\n",
              "    }\n",
              "\n",
              "    .colab-df-convert {\n",
              "      background-color: #E8F0FE;\n",
              "      border: none;\n",
              "      border-radius: 50%;\n",
              "      cursor: pointer;\n",
              "      display: none;\n",
              "      fill: #1967D2;\n",
              "      height: 32px;\n",
              "      padding: 0 0 0 0;\n",
              "      width: 32px;\n",
              "    }\n",
              "\n",
              "    .colab-df-convert:hover {\n",
              "      background-color: #E2EBFA;\n",
              "      box-shadow: 0px 1px 2px rgba(60, 64, 67, 0.3), 0px 1px 3px 1px rgba(60, 64, 67, 0.15);\n",
              "      fill: #174EA6;\n",
              "    }\n",
              "\n",
              "    [theme=dark] .colab-df-convert {\n",
              "      background-color: #3B4455;\n",
              "      fill: #D2E3FC;\n",
              "    }\n",
              "\n",
              "    [theme=dark] .colab-df-convert:hover {\n",
              "      background-color: #434B5C;\n",
              "      box-shadow: 0px 1px 3px 1px rgba(0, 0, 0, 0.15);\n",
              "      filter: drop-shadow(0px 1px 2px rgba(0, 0, 0, 0.3));\n",
              "      fill: #FFFFFF;\n",
              "    }\n",
              "  </style>\n",
              "\n",
              "      <script>\n",
              "        const buttonEl =\n",
              "          document.querySelector('#df-c0c88bd6-9035-4c1b-9832-fd8613877d4d button.colab-df-convert');\n",
              "        buttonEl.style.display =\n",
              "          google.colab.kernel.accessAllowed ? 'block' : 'none';\n",
              "\n",
              "        async function convertToInteractive(key) {\n",
              "          const element = document.querySelector('#df-c0c88bd6-9035-4c1b-9832-fd8613877d4d');\n",
              "          const dataTable =\n",
              "            await google.colab.kernel.invokeFunction('convertToInteractive',\n",
              "                                                     [key], {});\n",
              "          if (!dataTable) return;\n",
              "\n",
              "          const docLinkHtml = 'Like what you see? Visit the ' +\n",
              "            '<a target=\"_blank\" href=https://colab.research.google.com/notebooks/data_table.ipynb>data table notebook</a>'\n",
              "            + ' to learn more about interactive tables.';\n",
              "          element.innerHTML = '';\n",
              "          dataTable['output_type'] = 'display_data';\n",
              "          await google.colab.output.renderOutput(dataTable, element);\n",
              "          const docLink = document.createElement('div');\n",
              "          docLink.innerHTML = docLinkHtml;\n",
              "          element.appendChild(docLink);\n",
              "        }\n",
              "      </script>\n",
              "    </div>\n",
              "  </div>\n",
              "  "
            ]
          },
          "metadata": {},
          "execution_count": 31
        }
      ]
    },
    {
      "cell_type": "markdown",
      "source": [
        "**Problem#2**"
      ],
      "metadata": {
        "id": "Ol6dEjtCOcdT"
      }
    },
    {
      "cell_type": "code",
      "source": [
        "# Calculate the Gradient of Sigmoid\n",
        "# with x = -4.0\n",
        "\n",
        "print(\"Gradient of Sigmoid:\")\n",
        "x = -4.0\n",
        "result = tf.sigmoid(x) * (1- tf.sigmoid(x))\n",
        "print(\"x = -4.0, Gradient = \", np.round(result.numpy(), 4))\n",
        "\n",
        "x = 0.5\n",
        "result = tf.sigmoid(x) * (1- tf.sigmoid(x))\n",
        "print(\"x = -0.5, Gradient = \", np.round(result.numpy(), 4))\n",
        "\n",
        "x = 4.0\n",
        "result = tf.sigmoid(x) * (1- tf.sigmoid(x))\n",
        "print(\"x = 4.0, Gradient = \", np.round(result.numpy(), 4))"
      ],
      "metadata": {
        "colab": {
          "base_uri": "https://localhost:8080/"
        },
        "id": "pNLXKw-R55a7",
        "outputId": "839210cc-4b0d-4c6f-c7be-a68283acc554"
      },
      "execution_count": null,
      "outputs": [
        {
          "output_type": "stream",
          "name": "stdout",
          "text": [
            "Gradient of Sigmoid:\n",
            "x = -4.0, Gradient =  0.0177\n",
            "x = -0.5, Gradient =  0.235\n",
            "x = 4.0, Gradient =  0.0177\n"
          ]
        }
      ]
    },
    {
      "cell_type": "code",
      "source": [
        "# Calculate the Gradient of Tanh\n",
        "# with x = -4.0\n",
        "\n",
        "print(\"Gradient of Tanh:\")\n",
        "x = -4.0\n",
        "result = 1 - (tf.tanh(x))**2\n",
        "print(\"x = -4.0, Gradient = \", np.round(result.numpy(), 4))\n",
        "\n",
        "x = 0.5\n",
        "result = 1 - (tf.tanh(x))**2\n",
        "print(\"x = -0.5, Gradient = \", np.round(result.numpy(), 4))\n",
        "\n",
        "x = 4.0\n",
        "result = 1 - (tf.tanh(x))**2\n",
        "print(\"x = 4.0, Gradient = \", np.round(result.numpy(), 4))"
      ],
      "metadata": {
        "colab": {
          "base_uri": "https://localhost:8080/"
        },
        "id": "GOo3LqZe8sJX",
        "outputId": "6e105997-8996-4244-8122-6fed31edbe68"
      },
      "execution_count": null,
      "outputs": [
        {
          "output_type": "stream",
          "name": "stdout",
          "text": [
            "Gradient of Tanh:\n",
            "x = -4.0, Gradient =  0.0013\n",
            "x = -0.5, Gradient =  0.7864\n",
            "x = 4.0, Gradient =  0.0013\n"
          ]
        }
      ]
    },
    {
      "cell_type": "code",
      "source": [
        "# Calculate the Gradient of ReLu\n",
        "# with x = -4.0\n",
        "\n",
        "def calculate_gradient_ReLu(x):\n",
        "  if(x <= 0):\n",
        "    return 0\n",
        "  else:\n",
        "    return 1;\n",
        "\n",
        "print(\"Gradient of ReLu:\")\n",
        "x = -4.0\n",
        "result = calculate_gradient_ReLu(x)\n",
        "print(\"x = -4.0, Gradient = \", result)\n",
        "\n",
        "x = 0.5\n",
        "result = calculate_gradient_ReLu(x)\n",
        "print(\"x = -0.5, Gradient = \", result)\n",
        "\n",
        "x = 4.0\n",
        "result = calculate_gradient_ReLu(x)\n",
        "print(\"x = 4.0, Gradient = \", result)"
      ],
      "metadata": {
        "colab": {
          "base_uri": "https://localhost:8080/"
        },
        "id": "ubtcMIRQ9qhS",
        "outputId": "4f5404d4-ae29-4917-d59d-b21a75f1df5a"
      },
      "execution_count": null,
      "outputs": [
        {
          "output_type": "stream",
          "name": "stdout",
          "text": [
            "Gradient of ReLu:\n",
            "x = -4.0, Gradient =  0\n",
            "x = -0.5, Gradient =  1\n",
            "x = 4.0, Gradient =  1\n"
          ]
        }
      ]
    },
    {
      "cell_type": "markdown",
      "source": [
        "**Problem#3**"
      ],
      "metadata": {
        "id": "jBpnH48DOgGQ"
      }
    },
    {
      "cell_type": "code",
      "source": [
        "# Compute the output of input wiht V1\n",
        "v1 = [2.3, 1.2, 0.3, 0.0]\n",
        "input = tf.constant(v1)\n",
        "output = tf.nn.softmax(input)\n",
        "print(\"Output of input with V1:\")\n",
        "print(output)\n",
        "\n",
        "# Compute the output of input wiht V2\n",
        "v1 = [1.9, 1.7, 2.6, 0.2, 1.3]\n",
        "input = tf.constant(v1)\n",
        "output = tf.nn.softmax(input)\n",
        "print(\"Output of input with V2:\")\n",
        "print(output)\n"
      ],
      "metadata": {
        "colab": {
          "base_uri": "https://localhost:8080/"
        },
        "id": "7QjpNzwT-RO6",
        "outputId": "8e2a91fd-7497-4536-904c-992d7126aca8"
      },
      "execution_count": null,
      "outputs": [
        {
          "output_type": "stream",
          "name": "stdout",
          "text": [
            "Output of input with V1:\n",
            "tf.Tensor([0.6375659  0.21222727 0.08628516 0.06392162], shape=(4,), dtype=float32)\n",
            "Output of input with V2:\n",
            "tf.Tensor([0.21910708 0.17938972 0.44122744 0.04002725 0.12024851], shape=(5,), dtype=float32)\n"
          ]
        }
      ]
    },
    {
      "cell_type": "markdown",
      "source": [
        "**Problem#4**"
      ],
      "metadata": {
        "id": "qvbZ1VhfOiN5"
      }
    },
    {
      "cell_type": "code",
      "source": [
        "# Define the method to compute cost function\n",
        "def cost_function(target, computed_value):\n",
        "  result = - (target * tf.math.log(computed_value) + (1 - target) * tf.math.log(1 - computed_value))\n",
        "  return tf.cast(result, tf.float64).numpy()\n",
        "\n",
        "target = 0\n",
        "print(\"Target = \", target)\n",
        "computed_value = 0.95\n",
        "print(\"Computed Value = \", computed_value, \", Cost Function = \", cost_function(target, computed_value))\n",
        "\n",
        "computed_value = 0.8\n",
        "print(\"Computed Value = \", computed_value, \", Cost Function = \", cost_function(target, computed_value))\n",
        "\n",
        "computed_value = 0.6\n",
        "print(\"Computed Value = \", computed_value, \", Cost Function = \", cost_function(target, computed_value))\n",
        "\n",
        "computed_value = 0.4\n",
        "print(\"Computed Value = \", computed_value, \", Cost Function = \", cost_function(target, computed_value))\n",
        "\n",
        "computed_value = 0.1\n",
        "print(\"Computed Value = \", computed_value, \", Cost Function = \", cost_function(target, computed_value))\n",
        "\n",
        "target = 1\n",
        "print(\"Target = \", target)\n",
        "computed_value = 0.95\n",
        "print(\"Computed Value = \", computed_value, \", Cost Function = \", cost_function(target, computed_value))\n",
        "\n",
        "computed_value = 0.8\n",
        "print(\"Computed Value = \", computed_value, \", Cost Function = \", cost_function(target, computed_value))\n",
        "\n",
        "computed_value = 0.6\n",
        "print(\"Computed Value = \", computed_value, \", Cost Function = \", cost_function(target, computed_value))\n",
        "\n",
        "computed_value = 0.4\n",
        "print(\"Computed Value = \", computed_value, \", Cost Function = \", cost_function(target, computed_value))\n",
        "\n",
        "computed_value = 0.1\n",
        "print(\"Computed Value = \", computed_value, \", Cost Function = \", cost_function(target, computed_value))"
      ],
      "metadata": {
        "colab": {
          "base_uri": "https://localhost:8080/"
        },
        "id": "cksnoPTE_N2g",
        "outputId": "d82dbb3d-931d-4659-cf95-87b9618e1aac"
      },
      "execution_count": null,
      "outputs": [
        {
          "output_type": "stream",
          "name": "stdout",
          "text": [
            "Target =  0\n",
            "Computed Value =  0.95 , Cost Function =  2.995732307434082\n",
            "Computed Value =  0.8 , Cost Function =  1.6094379425048828\n",
            "Computed Value =  0.6 , Cost Function =  0.9162907004356384\n",
            "Computed Value =  0.4 , Cost Function =  0.5108255743980408\n",
            "Computed Value =  0.1 , Cost Function =  0.10536054521799088\n",
            "Target =  1\n",
            "Computed Value =  0.95 , Cost Function =  0.051293306052684784\n",
            "Computed Value =  0.8 , Cost Function =  0.2231435328722\n",
            "Computed Value =  0.6 , Cost Function =  0.5108255743980408\n",
            "Computed Value =  0.4 , Cost Function =  0.9162907004356384\n",
            "Computed Value =  0.1 , Cost Function =  2.3025851249694824\n"
          ]
        }
      ]
    },
    {
      "cell_type": "markdown",
      "source": [
        "**Problem#5**"
      ],
      "metadata": {
        "id": "slvAZg5zOk5y"
      }
    },
    {
      "cell_type": "code",
      "source": [
        "a = [[5, 2, 3], [26, 52, 92], [3, 0, 26]]\n",
        "\n",
        "a1 = tf.argmax(a, axis = 0)\n",
        "a2 = tf.argmax(a, axis = 1)\n",
        "\n",
        "print(\"a1 = \", a1.numpy())\n",
        "print(\"a2 = \", a2.numpy())"
      ],
      "metadata": {
        "colab": {
          "base_uri": "https://localhost:8080/"
        },
        "id": "5-d-R-SZDOuT",
        "outputId": "89f97294-c126-45e8-e1e9-fbc852399c36"
      },
      "execution_count": null,
      "outputs": [
        {
          "output_type": "stream",
          "name": "stdout",
          "text": [
            "a1 =  [1 1 1]\n",
            "a2 =  [0 2 2]\n"
          ]
        }
      ]
    },
    {
      "cell_type": "markdown",
      "source": [
        "Problem#6"
      ],
      "metadata": {
        "id": "sVfeeizhOmvh"
      }
    },
    {
      "cell_type": "code",
      "source": [
        "# Define the method to compute\n",
        "def compute(inputData, batchSize):\n",
        "  if(inputData.shape[0] % batchSize != 0):\n",
        "    raise Exception(\"batchSize is invalid!\")\n",
        "\n",
        "  result = []\n",
        "  start_index = 0\n",
        "  end_index = start_index + batchSize\n",
        "  while(end_index <= inputData.shape[0]):\n",
        "    # Slice the input\n",
        "    input = inputData[start_index : end_index]\n",
        "    #print(\"start_index : \", start_index, \" end_index : \", end_index, \" input:\\n\", input)\n",
        "    start_index += batchSize\n",
        "    end_index += batchSize\n",
        "    # Compute the Layer1\n",
        "    w1 = tf.constant([[-4, -6, -5], [3, 6, 4]])\n",
        "    b1 = tf.constant([[-2, 3, -2]])\n",
        "    outputH1 = tf.matmul(input, w1) + b1\n",
        "    outputH1_Activation = tf.sigmoid(tf.cast(outputH1, tf.float64))\n",
        "\n",
        "    # Compute the Layer2\n",
        "    w2 = tf.cast(tf.constant([[5], [-9], [7]]), tf.float64)\n",
        "    b2 = tf.cast(tf.constant([[4]]), tf.float64)\n",
        "    outputH2 = tf.matmul(outputH1_Activation, w2) + b2\n",
        "    outputH2_Activation = tf.sigmoid(tf.cast(outputH2, tf.float64))\n",
        "    for a in outputH2_Activation.numpy():\n",
        "      result.append(a[0])\n",
        "    \n",
        "  return result;\n",
        "\n",
        "# Compute the input\n",
        "inputData = [[0, 0], [1, 0], [0, 1], [1, 1]]\n",
        "batchSize = 2\n",
        "computed_Output = compute(tf.constant(inputData), batchSize)\n",
        "#print(computed_Output)\n",
        "\n",
        "# Convert the result to pandas\n",
        "df = pd.DataFrame(inputData, columns = [\"Input 1\", \"Input 2\"])\n",
        "ture_Output = [0, 1, 1, 0]\n",
        "df[\"True Output\"] = ture_Output\n",
        "\n",
        "df[\"Computed output\"] = computed_Output\n",
        "\n",
        "# Compute the Error\n",
        "\n",
        "error = (np.array(ture_Output) - np.array(computed_Output)) ** 2\n",
        "df[\"Error\"] = error\n",
        "\n",
        "df"
      ],
      "metadata": {
        "colab": {
          "base_uri": "https://localhost:8080/",
          "height": 175
        },
        "id": "xXmYFl0z7IT8",
        "outputId": "3b46965c-8214-4036-e22d-3f2e58f5ce6e"
      },
      "execution_count": null,
      "outputs": [
        {
          "output_type": "execute_result",
          "data": {
            "text/plain": [
              "   Input 1  Input 2  True Output  Computed output       Error\n",
              "0        0        0            0       0.04137861  0.00171219\n",
              "1        1        0            1       0.97319269  0.00071863\n",
              "2        0        1            1       0.99201349  0.00006378\n",
              "3        1        1            0       0.01791470  0.00032094"
            ],
            "text/html": [
              "\n",
              "  <div id=\"df-4c86e64e-1f9e-4697-adae-433950239d84\">\n",
              "    <div class=\"colab-df-container\">\n",
              "      <div>\n",
              "<style scoped>\n",
              "    .dataframe tbody tr th:only-of-type {\n",
              "        vertical-align: middle;\n",
              "    }\n",
              "\n",
              "    .dataframe tbody tr th {\n",
              "        vertical-align: top;\n",
              "    }\n",
              "\n",
              "    .dataframe thead th {\n",
              "        text-align: right;\n",
              "    }\n",
              "</style>\n",
              "<table border=\"1\" class=\"dataframe\">\n",
              "  <thead>\n",
              "    <tr style=\"text-align: right;\">\n",
              "      <th></th>\n",
              "      <th>Input 1</th>\n",
              "      <th>Input 2</th>\n",
              "      <th>True Output</th>\n",
              "      <th>Computed output</th>\n",
              "      <th>Error</th>\n",
              "    </tr>\n",
              "  </thead>\n",
              "  <tbody>\n",
              "    <tr>\n",
              "      <th>0</th>\n",
              "      <td>0</td>\n",
              "      <td>0</td>\n",
              "      <td>0</td>\n",
              "      <td>0.04137861</td>\n",
              "      <td>0.00171219</td>\n",
              "    </tr>\n",
              "    <tr>\n",
              "      <th>1</th>\n",
              "      <td>1</td>\n",
              "      <td>0</td>\n",
              "      <td>1</td>\n",
              "      <td>0.97319269</td>\n",
              "      <td>0.00071863</td>\n",
              "    </tr>\n",
              "    <tr>\n",
              "      <th>2</th>\n",
              "      <td>0</td>\n",
              "      <td>1</td>\n",
              "      <td>1</td>\n",
              "      <td>0.99201349</td>\n",
              "      <td>0.00006378</td>\n",
              "    </tr>\n",
              "    <tr>\n",
              "      <th>3</th>\n",
              "      <td>1</td>\n",
              "      <td>1</td>\n",
              "      <td>0</td>\n",
              "      <td>0.01791470</td>\n",
              "      <td>0.00032094</td>\n",
              "    </tr>\n",
              "  </tbody>\n",
              "</table>\n",
              "</div>\n",
              "      <button class=\"colab-df-convert\" onclick=\"convertToInteractive('df-4c86e64e-1f9e-4697-adae-433950239d84')\"\n",
              "              title=\"Convert this dataframe to an interactive table.\"\n",
              "              style=\"display:none;\">\n",
              "        \n",
              "  <svg xmlns=\"http://www.w3.org/2000/svg\" height=\"24px\"viewBox=\"0 0 24 24\"\n",
              "       width=\"24px\">\n",
              "    <path d=\"M0 0h24v24H0V0z\" fill=\"none\"/>\n",
              "    <path d=\"M18.56 5.44l.94 2.06.94-2.06 2.06-.94-2.06-.94-.94-2.06-.94 2.06-2.06.94zm-11 1L8.5 8.5l.94-2.06 2.06-.94-2.06-.94L8.5 2.5l-.94 2.06-2.06.94zm10 10l.94 2.06.94-2.06 2.06-.94-2.06-.94-.94-2.06-.94 2.06-2.06.94z\"/><path d=\"M17.41 7.96l-1.37-1.37c-.4-.4-.92-.59-1.43-.59-.52 0-1.04.2-1.43.59L10.3 9.45l-7.72 7.72c-.78.78-.78 2.05 0 2.83L4 21.41c.39.39.9.59 1.41.59.51 0 1.02-.2 1.41-.59l7.78-7.78 2.81-2.81c.8-.78.8-2.07 0-2.86zM5.41 20L4 18.59l7.72-7.72 1.47 1.35L5.41 20z\"/>\n",
              "  </svg>\n",
              "      </button>\n",
              "      \n",
              "  <style>\n",
              "    .colab-df-container {\n",
              "      display:flex;\n",
              "      flex-wrap:wrap;\n",
              "      gap: 12px;\n",
              "    }\n",
              "\n",
              "    .colab-df-convert {\n",
              "      background-color: #E8F0FE;\n",
              "      border: none;\n",
              "      border-radius: 50%;\n",
              "      cursor: pointer;\n",
              "      display: none;\n",
              "      fill: #1967D2;\n",
              "      height: 32px;\n",
              "      padding: 0 0 0 0;\n",
              "      width: 32px;\n",
              "    }\n",
              "\n",
              "    .colab-df-convert:hover {\n",
              "      background-color: #E2EBFA;\n",
              "      box-shadow: 0px 1px 2px rgba(60, 64, 67, 0.3), 0px 1px 3px 1px rgba(60, 64, 67, 0.15);\n",
              "      fill: #174EA6;\n",
              "    }\n",
              "\n",
              "    [theme=dark] .colab-df-convert {\n",
              "      background-color: #3B4455;\n",
              "      fill: #D2E3FC;\n",
              "    }\n",
              "\n",
              "    [theme=dark] .colab-df-convert:hover {\n",
              "      background-color: #434B5C;\n",
              "      box-shadow: 0px 1px 3px 1px rgba(0, 0, 0, 0.15);\n",
              "      filter: drop-shadow(0px 1px 2px rgba(0, 0, 0, 0.3));\n",
              "      fill: #FFFFFF;\n",
              "    }\n",
              "  </style>\n",
              "\n",
              "      <script>\n",
              "        const buttonEl =\n",
              "          document.querySelector('#df-4c86e64e-1f9e-4697-adae-433950239d84 button.colab-df-convert');\n",
              "        buttonEl.style.display =\n",
              "          google.colab.kernel.accessAllowed ? 'block' : 'none';\n",
              "\n",
              "        async function convertToInteractive(key) {\n",
              "          const element = document.querySelector('#df-4c86e64e-1f9e-4697-adae-433950239d84');\n",
              "          const dataTable =\n",
              "            await google.colab.kernel.invokeFunction('convertToInteractive',\n",
              "                                                     [key], {});\n",
              "          if (!dataTable) return;\n",
              "\n",
              "          const docLinkHtml = 'Like what you see? Visit the ' +\n",
              "            '<a target=\"_blank\" href=https://colab.research.google.com/notebooks/data_table.ipynb>data table notebook</a>'\n",
              "            + ' to learn more about interactive tables.';\n",
              "          element.innerHTML = '';\n",
              "          dataTable['output_type'] = 'display_data';\n",
              "          await google.colab.output.renderOutput(dataTable, element);\n",
              "          const docLink = document.createElement('div');\n",
              "          docLink.innerHTML = docLinkHtml;\n",
              "          element.appendChild(docLink);\n",
              "        }\n",
              "      </script>\n",
              "    </div>\n",
              "  </div>\n",
              "  "
            ]
          },
          "metadata": {},
          "execution_count": 118
        }
      ]
    }
  ]
}